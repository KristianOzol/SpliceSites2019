{
 "cells": [
  {
   "cell_type": "markdown",
   "metadata": {},
   "source": [
    "Loading the various libraries and modules needed"
   ]
  },
  {
   "cell_type": "code",
   "execution_count": 1,
   "metadata": {},
   "outputs": [],
   "source": [
    "import numpy as np\n",
    "import pandas as pd\n",
    "\n",
    "import tensorflow as tf\n",
    "import tensorflow.keras.backend as K\n",
    "from tensorflow.keras.models import Sequential\n",
    "from tensorflow.keras.models import load_model\n",
    "from tensorflow.keras.layers import Dense, Dropout, Activation, Flatten\n",
    "from tensorflow.keras import regularizers\n",
    "\n",
    "import sklearn as sklearn\n",
    "from sklearn.model_selection import StratifiedKFold\n",
    "from sklearn.model_selection import train_test_split\n",
    "from sklearn.metrics import confusion_matrix\n",
    "from sklearn.metrics import matthews_corrcoef"
   ]
  },
  {
   "cell_type": "markdown",
   "metadata": {},
   "source": [
    "Defining a function for loading the data as numpy arrays with each position one-hot-encoded"
   ]
  },
  {
   "cell_type": "code",
   "execution_count": 2,
   "metadata": {},
   "outputs": [],
   "source": [
    "def loadOneHotEncoded(filename, size):\n",
    "    inputFile = open(filename,'r')\n",
    "    df = np.array([])\n",
    "    for i in range(1, size, 1):\n",
    "        content = inputFile.readline()\n",
    "        if i == 5:\n",
    "            df = np.array(list(content))\n",
    "            length = len(df)\n",
    "            df = df.reshape(length)[length-141:length-1]\n",
    "            df = pd.get_dummies(df).values\n",
    "            df = df.reshape(1,140,4)\n",
    "        if i>5:\n",
    "            contentArray = np.array(list(content))\n",
    "            length = len(contentArray)\n",
    "            contentArray = contentArray.reshape(length)[length-141:length-1]\n",
    "            contentArray = np.append(contentArray, ['A'], axis = 0)\n",
    "            contentArray = np.append(contentArray, ['C'], axis = 0)\n",
    "            contentArray = np.append(contentArray, ['G'], axis = 0)\n",
    "            contentArray = np.append(contentArray, ['T'], axis = 0)\n",
    "            contentArray = pd.get_dummies(contentArray).values\n",
    "            contentArray = contentArray[0:140].reshape(1,140,4)\n",
    "            df = np.append(df,contentArray, axis=0)\n",
    "    return(df)"
   ]
  },
  {
   "cell_type": "markdown",
   "metadata": {},
   "source": [
    "Defining a function for instantiation of the various arrays, encoded as one-hot sequences (Numbers indicate sample counts, offset by the 5 lines of header)"
   ]
  },
  {
   "cell_type": "code",
   "execution_count": 3,
   "metadata": {},
   "outputs": [],
   "source": [
    "def loadSequenceArrays():\n",
    "    ei_true = loadOneHotEncoded('EI_true.seq',2796+5)\n",
    "    ie_true = loadOneHotEncoded('IE_true.seq',2880+5)\n",
    "    ei_false = loadOneHotEncoded('EI_false.seq', 2796+5)\n",
    "    ie_false = loadOneHotEncoded('IE_false.seq', 2880+5)\n",
    "    return(ei_true, ie_true, ei_false, ie_false)"
   ]
  },
  {
   "cell_type": "markdown",
   "metadata": {},
   "source": [
    "Defining a function for creating target arrays, one for each category."
   ]
  },
  {
   "cell_type": "code",
   "execution_count": 4,
   "metadata": {},
   "outputs": [],
   "source": [
    "def createTargetArray(eiTrueArray, ieTrueArray, eiFalseArray, ieFalseArray):\n",
    "    eiTarget = np.array([1,0]).reshape(1,2)\n",
    "    for i in range(eiTrueArray.shape[0]-1):\n",
    "        eiTarget = np.append(eiTarget, [[1,0]], axis = 0)\n",
    "    for i in range(eiFalseArray.shape[0]):\n",
    "        eiTarget = np.append(eiTarget, [[0,1]], axis = 0)\n",
    "    ieTarget = np.array([1,0]).reshape(1,2)\n",
    "    for i in range(ieTrueArray.shape[0]-1):\n",
    "        ieTarget = np.append(ieTarget, [[1,0]], axis = 0)\n",
    "    for i in range(ieFalseArray.shape[0]):\n",
    "        ieTarget = np.append(ieTarget, [[0,1]], axis = 0)\n",
    "    return(eiTarget, ieTarget)"
   ]
  },
  {
   "cell_type": "markdown",
   "metadata": {},
   "source": [
    "Defining a function for creating a complete predictor array with all sequences, one for each category"
   ]
  },
  {
   "cell_type": "code",
   "execution_count": 5,
   "metadata": {},
   "outputs": [],
   "source": [
    "def createPredictorArray(eiTrueArray, ieTrueArray, eiFalseArray, ieFalseArray):\n",
    "    eiPredictors = eiTrueArray\n",
    "    eiPredictors = np.append(eiPredictors, eiFalseArray,axis=0)\n",
    "    iePredictors = ieTrueArray\n",
    "    iePredictors = np.append(iePredictors, ieFalseArray,axis=0)\n",
    "    return(eiPredictors, iePredictors)"
   ]
  },
  {
   "cell_type": "markdown",
   "metadata": {},
   "source": [
    "Defining a function for wrapping all the previous functions together to create the final predictors and target arrays"
   ]
  },
  {
   "cell_type": "code",
   "execution_count": 6,
   "metadata": {},
   "outputs": [],
   "source": [
    "def createPredictorsAndTarget():\n",
    "    eiTrueArray, ieTrueArray, eiFalseArray, ieFalseArray = loadSequenceArrays()\n",
    "    eiTarget, ieTarget = createTargetArray(eiTrueArray, ieTrueArray, eiFalseArray, ieFalseArray)\n",
    "    eiPredictors, iePredictors = createPredictorArray(eiTrueArray, ieTrueArray, eiFalseArray, ieFalseArray)\n",
    "    return(eiTarget, ieTarget, eiPredictors, iePredictors)"
   ]
  },
  {
   "cell_type": "markdown",
   "metadata": {},
   "source": [
    "Use the createPredictorsAndTarget and SKLearn's train_test_split functions to produce the TRAINING and TEST data partitions, whereafter they are saved to reloadable files (run once)."
   ]
  },
  {
   "cell_type": "code",
   "execution_count": 7,
   "metadata": {},
   "outputs": [],
   "source": [
    "#eiTarget, ieTarget, eiPredictors, iePredictors = createPredictorsAndTarget()\n",
    "#eiPredictorsTrain, eiPredictorsTest, eiTargetTrain, eiTargetTest = train_test_split(eiPredictors,eiTarget, test_size = 0.2, stratify = eiTarget)\n",
    "#iePredictorsTrain, iePredictorsTest, ieTargetTrain, ieTargetTest = train_test_split(iePredictors,ieTarget, test_size = 0.2, stratify = ieTarget)\n",
    "#np.save(\"eiPredictorsTrain\", eiPredictorsTrain)\n",
    "#np.save(\"eiPredictorsTest\", eiPredictorsTest)\n",
    "#np.save(\"eiTargetTrain\", eiTargetTrain)\n",
    "#np.save(\"eiTargetTest\", eiTargetTest)\n",
    "#np.save(\"iePredictorsTrain\", iePredictorsTrain)\n",
    "#np.save(\"iePredictorsTest\", iePredictorsTest)\n",
    "#np.save(\"ieTargetTrain\", ieTargetTrain)\n",
    "#np.save(\"ieTargetTest\", ieTargetTest)"
   ]
  },
  {
   "cell_type": "markdown",
   "metadata": {},
   "source": [
    "Load all the previously produced data partitions"
   ]
  },
  {
   "cell_type": "code",
   "execution_count": 8,
   "metadata": {},
   "outputs": [],
   "source": [
    "eiPredictorsTrain = np.load(\"eiPredictorsTrain.npy\")\n",
    "eiPredictorsTest = np.load(\"eiPredictorsTest.npy\")\n",
    "eiTargetTrain = np.load(\"eiTargetTrain.npy\")\n",
    "eiTargetTest = np.load(\"eiTargetTest.npy\")\n",
    "iePredictorsTrain = np.load(\"iePredictorsTrain.npy\")\n",
    "iePredictorsTest = np.load(\"iePredictorsTest.npy\")\n",
    "ieTargetTrain = np.load(\"ieTargetTrain.npy\")\n",
    "ieTargetTest = np.load(\"ieTargetTest.npy\")"
   ]
  },
  {
   "cell_type": "markdown",
   "metadata": {},
   "source": [
    "Defining a function for instantiation of the NN model and execution of the compilation step."
   ]
  },
  {
   "cell_type": "code",
   "execution_count": 9,
   "metadata": {},
   "outputs": [],
   "source": [
    "def buildModelAndCompile():  \n",
    "    K.clear_session()\n",
    "    model = Sequential()  \n",
    "    model.add(Flatten(input_shape=(140, 4)))\n",
    "    model.add(Dropout(0.20))  \n",
    "    model.add(Dense(150, activation = 'relu'))\n",
    "    model.add(Dropout(0.50))  \n",
    "    model.add(Dense(100, activation = 'relu'))\n",
    "    model.add(Dropout(0.50))  \n",
    "    model.add(Dense(50, activation = 'relu'))\n",
    "    model.add(Dropout(0.50))  \n",
    "    model.add(Dense(2, activation = 'softmax'))\n",
    "    model.compile(optimizer = 'adam', loss = 'binary_crossentropy', metrics=['accuracy'])  \n",
    "    model.summary()\n",
    "    return(model)"
   ]
  },
  {
   "cell_type": "markdown",
   "metadata": {},
   "source": [
    "Defining a function that use SKlearn's strafified KFold indexer to do 10-fold cross-validation, outputting accuracy, MCC and a confusion matrix."
   ]
  },
  {
   "cell_type": "code",
   "execution_count": 10,
   "metadata": {},
   "outputs": [],
   "source": [
    "def runKFoldCV(predictors, target):\n",
    "    cvScores = []\n",
    "    epochNumber = 40\n",
    "    kfold = StratifiedKFold(n_splits=10)\n",
    "    for train, test in kfold.split(predictors, target[:,0]): \n",
    "        testModel = buildModelAndCompile()\n",
    "        testModel.fit(predictors[train], target[train], validation_data = (predictors[test], target[test]), epochs = epochNumber, verbose = 1)\n",
    "        scores = testModel.evaluate(predictors[test], target[test])\n",
    "        predictions = np.round(testModel.predict(predictors[test])).astype(int)\n",
    "        MCC = matthews_corrcoef(target[test][:,1], predictions[:,1])\n",
    "        print(\"%s: %.2f%%\" % (testModel.metrics_names[1], scores[1]*100))\n",
    "        print(\"%s: %.2f\" % (\"MCC\", MCC))\n",
    "        print(\"Confusion Matrix\")\n",
    "        print(confusion_matrix(target[test][:,1], predictions[:,1]))\n",
    "        cvScores.append([scores[1] * 100, MCC])\n",
    "    cvScores = np.asarray(cvScores)\n",
    "    finalScore = np.asarray([[np.mean(cvScores[:,0]), np.std(cvScores[:,0])], [np.mean(cvScores[:,1]), np.std(cvScores[:,1])]])\n",
    "    print(\"Accuracy: %.2f%% (+/- %.2f%%)\" % (finalScore[0,0], finalScore[0,1]))\n",
    "    print(\"MCC: %.2f (+/- %.2f)\" % (finalScore[1,0], finalScore[1,1]))\n",
    "    model = buildModelAndCompile()\n",
    "    model.fit(predictors, target, epochs = epochNumber, verbose = 0)\n",
    "    return(finalScore, model)"
   ]
  },
  {
   "cell_type": "markdown",
   "metadata": {},
   "source": [
    "Defining a function for building, compiling, and evaluating a single NN model either with 10-fold CV or using a simple validation split."
   ]
  },
  {
   "cell_type": "code",
   "execution_count": 11,
   "metadata": {},
   "outputs": [],
   "source": [
    "def buildCompileFitEvaluate(predictors, target, cv):\n",
    "    if crossValidation == False:\n",
    "        scores = []\n",
    "        model = buildModelAndCompile()\n",
    "        model.fit(predictors, target, validation_split = 0.2, shuffle=True, epochs = 40)\n",
    "        evaluation = model.evaluate(predictors, target)\n",
    "        predictions = np.round(model.predict(predictors)).astype(int)\n",
    "        MCC = matthews_corrcoef(target[:,1], predictions[:,1])\n",
    "        scores.append([evaluation[1] * 100])\n",
    "        scores.append([MCC])\n",
    "        scores = np.asarray(scores)\n",
    "        print(\"Accuracy: %.2f%%\" % scores[0])\n",
    "        print(\"MCC: %.2f\" % scores[1])\n",
    "        print(\"Confusion Matrix\")\n",
    "        print(confusion_matrix(target[:,1], predictions[:,1]))\n",
    "        return model, scores\n",
    "    else:    \n",
    "        cvScores, model = runKFoldCV(predictors, target)\n",
    "        return model, cvScores"
   ]
  },
  {
   "cell_type": "markdown",
   "metadata": {},
   "source": [
    "Setting the global parameters and proceed according to the settings. Will run the NN model on both the donor and acceptor category training data, and if the finalRun flag is set to True then the test set will be used for test error evaluation, while also saving the model."
   ]
  },
  {
   "cell_type": "code",
   "execution_count": 12,
   "metadata": {},
   "outputs": [
    {
     "name": "stdout",
     "output_type": "stream",
     "text": [
      "_________________________________________________________________\n",
      "Layer (type)                 Output Shape              Param #   \n",
      "=================================================================\n",
      "flatten (Flatten)            (None, 560)               0         \n",
      "_________________________________________________________________\n",
      "dropout (Dropout)            (None, 560)               0         \n",
      "_________________________________________________________________\n",
      "dense (Dense)                (None, 150)               84150     \n",
      "_________________________________________________________________\n",
      "dropout_1 (Dropout)          (None, 150)               0         \n",
      "_________________________________________________________________\n",
      "dense_1 (Dense)              (None, 100)               15100     \n",
      "_________________________________________________________________\n",
      "dropout_2 (Dropout)          (None, 100)               0         \n",
      "_________________________________________________________________\n",
      "dense_2 (Dense)              (None, 50)                5050      \n",
      "_________________________________________________________________\n",
      "dropout_3 (Dropout)          (None, 50)                0         \n",
      "_________________________________________________________________\n",
      "dense_3 (Dense)              (None, 2)                 102       \n",
      "=================================================================\n",
      "Total params: 104,402\n",
      "Trainable params: 104,402\n",
      "Non-trainable params: 0\n",
      "_________________________________________________________________\n",
      "Train on 3578 samples, validate on 895 samples\n",
      "Epoch 1/40\n",
      "3578/3578 [==============================] - 1s 317us/step - loss: 0.7369 - acc: 0.5405 - val_loss: 0.6460 - val_acc: 0.7419\n",
      "Epoch 2/40\n",
      "3578/3578 [==============================] - 1s 155us/step - loss: 0.5864 - acc: 0.6873 - val_loss: 0.3833 - val_acc: 0.8715\n",
      "Epoch 3/40\n",
      "3578/3578 [==============================] - 1s 165us/step - loss: 0.4294 - acc: 0.8150 - val_loss: 0.2866 - val_acc: 0.8927\n",
      "Epoch 4/40\n",
      "3578/3578 [==============================] - 1s 158us/step - loss: 0.3409 - acc: 0.8619 - val_loss: 0.2172 - val_acc: 0.9240\n",
      "Epoch 5/40\n",
      "3578/3578 [==============================] - 1s 152us/step - loss: 0.3251 - acc: 0.8670 - val_loss: 0.2114 - val_acc: 0.9251\n",
      "Epoch 6/40\n",
      "3578/3578 [==============================] - 1s 163us/step - loss: 0.2958 - acc: 0.8818 - val_loss: 0.2097 - val_acc: 0.9184\n",
      "Epoch 7/40\n",
      "3578/3578 [==============================] - 1s 145us/step - loss: 0.2694 - acc: 0.8946 - val_loss: 0.1959 - val_acc: 0.9363\n",
      "Epoch 8/40\n",
      "3578/3578 [==============================] - 1s 152us/step - loss: 0.2543 - acc: 0.9030 - val_loss: 0.1981 - val_acc: 0.9307\n",
      "Epoch 9/40\n",
      "3578/3578 [==============================] - 1s 145us/step - loss: 0.2389 - acc: 0.9013 - val_loss: 0.1945 - val_acc: 0.9296\n",
      "Epoch 10/40\n",
      "3578/3578 [==============================] - 1s 161us/step - loss: 0.2261 - acc: 0.9117 - val_loss: 0.1874 - val_acc: 0.9385\n",
      "Epoch 11/40\n",
      "3578/3578 [==============================] - 1s 178us/step - loss: 0.2189 - acc: 0.9237 - val_loss: 0.1853 - val_acc: 0.9397\n",
      "Epoch 12/40\n",
      "3578/3578 [==============================] - 1s 152us/step - loss: 0.2005 - acc: 0.9203 - val_loss: 0.1831 - val_acc: 0.9341\n",
      "Epoch 13/40\n",
      "3578/3578 [==============================] - 1s 160us/step - loss: 0.2015 - acc: 0.9215 - val_loss: 0.1946 - val_acc: 0.9285\n",
      "Epoch 14/40\n",
      "3578/3578 [==============================] - 1s 172us/step - loss: 0.1943 - acc: 0.9245 - val_loss: 0.1971 - val_acc: 0.9296\n",
      "Epoch 15/40\n",
      "3578/3578 [==============================] - 1s 150us/step - loss: 0.1738 - acc: 0.9380 - val_loss: 0.1875 - val_acc: 0.9240\n",
      "Epoch 16/40\n",
      "3578/3578 [==============================] - 1s 162us/step - loss: 0.1812 - acc: 0.9349 - val_loss: 0.1878 - val_acc: 0.9296\n",
      "Epoch 17/40\n",
      "3578/3578 [==============================] - 1s 176us/step - loss: 0.1564 - acc: 0.9427 - val_loss: 0.1892 - val_acc: 0.9318\n",
      "Epoch 18/40\n",
      "3578/3578 [==============================] - 1s 156us/step - loss: 0.1404 - acc: 0.9477 - val_loss: 0.2115 - val_acc: 0.9229\n",
      "Epoch 19/40\n",
      "3578/3578 [==============================] - 1s 198us/step - loss: 0.1647 - acc: 0.9410 - val_loss: 0.1887 - val_acc: 0.9285\n",
      "Epoch 20/40\n",
      "3578/3578 [==============================] - 1s 190us/step - loss: 0.1477 - acc: 0.9441 - val_loss: 0.1972 - val_acc: 0.9207\n",
      "Epoch 21/40\n",
      "3578/3578 [==============================] - 1s 178us/step - loss: 0.1400 - acc: 0.9472 - val_loss: 0.2130 - val_acc: 0.9207\n",
      "Epoch 22/40\n",
      "3578/3578 [==============================] - 1s 182us/step - loss: 0.1392 - acc: 0.9514 - val_loss: 0.2043 - val_acc: 0.9274\n",
      "Epoch 23/40\n",
      "3578/3578 [==============================] - 1s 151us/step - loss: 0.1295 - acc: 0.9497 - val_loss: 0.2002 - val_acc: 0.9251\n",
      "Epoch 24/40\n",
      "3578/3578 [==============================] - 1s 151us/step - loss: 0.1285 - acc: 0.9533 - val_loss: 0.2075 - val_acc: 0.9240\n",
      "Epoch 25/40\n",
      "3578/3578 [==============================] - 1s 154us/step - loss: 0.1153 - acc: 0.9525 - val_loss: 0.2074 - val_acc: 0.9229\n",
      "Epoch 26/40\n",
      "3578/3578 [==============================] - 1s 152us/step - loss: 0.1205 - acc: 0.9558 - val_loss: 0.1970 - val_acc: 0.9240\n",
      "Epoch 27/40\n",
      "3578/3578 [==============================] - 1s 161us/step - loss: 0.1116 - acc: 0.9600 - val_loss: 0.1957 - val_acc: 0.9218\n",
      "Epoch 28/40\n",
      "3578/3578 [==============================] - 1s 162us/step - loss: 0.1149 - acc: 0.9617 - val_loss: 0.2061 - val_acc: 0.9263\n",
      "Epoch 29/40\n",
      "3578/3578 [==============================] - 1s 150us/step - loss: 0.1040 - acc: 0.9623 - val_loss: 0.2060 - val_acc: 0.9240\n",
      "Epoch 30/40\n",
      "3578/3578 [==============================] - 1s 171us/step - loss: 0.0965 - acc: 0.9656 - val_loss: 0.2138 - val_acc: 0.9296\n",
      "Epoch 31/40\n",
      "3578/3578 [==============================] - 1s 161us/step - loss: 0.1014 - acc: 0.9653 - val_loss: 0.1973 - val_acc: 0.9307\n",
      "Epoch 32/40\n",
      "3578/3578 [==============================] - 1s 151us/step - loss: 0.0949 - acc: 0.9639 - val_loss: 0.1912 - val_acc: 0.9318\n",
      "Epoch 33/40\n",
      "3578/3578 [==============================] - 1s 153us/step - loss: 0.1044 - acc: 0.9637 - val_loss: 0.2054 - val_acc: 0.9296\n",
      "Epoch 34/40\n",
      "3578/3578 [==============================] - 1s 164us/step - loss: 0.0922 - acc: 0.9645 - val_loss: 0.1997 - val_acc: 0.9318\n",
      "Epoch 35/40\n",
      "3578/3578 [==============================] - 1s 153us/step - loss: 0.0956 - acc: 0.9670 - val_loss: 0.2052 - val_acc: 0.9296\n",
      "Epoch 36/40\n",
      "3578/3578 [==============================] - 1s 159us/step - loss: 0.0977 - acc: 0.9620 - val_loss: 0.2280 - val_acc: 0.9095\n",
      "Epoch 37/40\n",
      "3578/3578 [==============================] - 1s 160us/step - loss: 0.1067 - acc: 0.9639 - val_loss: 0.2151 - val_acc: 0.9240\n",
      "Epoch 38/40\n",
      "3578/3578 [==============================] - 1s 160us/step - loss: 0.0860 - acc: 0.9681 - val_loss: 0.2186 - val_acc: 0.9218\n",
      "Epoch 39/40\n",
      "3578/3578 [==============================] - 1s 150us/step - loss: 0.0810 - acc: 0.9729 - val_loss: 0.2105 - val_acc: 0.9296\n",
      "Epoch 40/40\n",
      "3578/3578 [==============================] - 1s 162us/step - loss: 0.0882 - acc: 0.9670 - val_loss: 0.2276 - val_acc: 0.9263\n",
      "4473/4473 [==============================] - 0s 44us/step\n",
      "Accuracy: 98.52%\n",
      "MCC: 0.97\n",
      "Confusion Matrix\n",
      "[[2210   27]\n",
      " [  39 2197]]\n",
      "_________________________________________________________________\n",
      "Layer (type)                 Output Shape              Param #   \n",
      "=================================================================\n",
      "flatten (Flatten)            (None, 560)               0         \n",
      "_________________________________________________________________\n",
      "dropout (Dropout)            (None, 560)               0         \n",
      "_________________________________________________________________\n",
      "dense (Dense)                (None, 150)               84150     \n",
      "_________________________________________________________________\n",
      "dropout_1 (Dropout)          (None, 150)               0         \n",
      "_________________________________________________________________\n",
      "dense_1 (Dense)              (None, 100)               15100     \n",
      "_________________________________________________________________\n",
      "dropout_2 (Dropout)          (None, 100)               0         \n",
      "_________________________________________________________________\n",
      "dense_2 (Dense)              (None, 50)                5050      \n",
      "_________________________________________________________________\n",
      "dropout_3 (Dropout)          (None, 50)                0         \n",
      "_________________________________________________________________\n",
      "dense_3 (Dense)              (None, 2)                 102       \n",
      "=================================================================\n",
      "Total params: 104,402\n",
      "Trainable params: 104,402\n",
      "Non-trainable params: 0\n",
      "_________________________________________________________________\n"
     ]
    },
    {
     "name": "stdout",
     "output_type": "stream",
     "text": [
      "Train on 3686 samples, validate on 922 samples\n",
      "Epoch 1/40\n",
      "3686/3686 [==============================] - 1s 288us/step - loss: 0.7256 - acc: 0.5402 - val_loss: 0.6454 - val_acc: 0.6291\n",
      "Epoch 2/40\n",
      "3686/3686 [==============================] - 1s 146us/step - loss: 0.5688 - acc: 0.7016 - val_loss: 0.4020 - val_acc: 0.8395\n",
      "Epoch 3/40\n",
      "3686/3686 [==============================] - 1s 163us/step - loss: 0.4344 - acc: 0.8093 - val_loss: 0.3248 - val_acc: 0.8742\n",
      "Epoch 4/40\n",
      "3686/3686 [==============================] - 1s 140us/step - loss: 0.3715 - acc: 0.8483 - val_loss: 0.2894 - val_acc: 0.8807\n",
      "Epoch 5/40\n",
      "3686/3686 [==============================] - 0s 131us/step - loss: 0.3387 - acc: 0.8578 - val_loss: 0.2835 - val_acc: 0.8818\n",
      "Epoch 6/40\n",
      "3686/3686 [==============================] - 0s 131us/step - loss: 0.2989 - acc: 0.8755 - val_loss: 0.2664 - val_acc: 0.8850\n",
      "Epoch 7/40\n",
      "3686/3686 [==============================] - 1s 148us/step - loss: 0.2895 - acc: 0.8847 - val_loss: 0.2788 - val_acc: 0.8807\n",
      "Epoch 8/40\n",
      "3686/3686 [==============================] - 1s 151us/step - loss: 0.2693 - acc: 0.8950 - val_loss: 0.2613 - val_acc: 0.8948\n",
      "Epoch 9/40\n",
      "3686/3686 [==============================] - 1s 164us/step - loss: 0.2470 - acc: 0.8985 - val_loss: 0.2606 - val_acc: 0.8937\n",
      "Epoch 10/40\n",
      "3686/3686 [==============================] - 1s 161us/step - loss: 0.2336 - acc: 0.9088 - val_loss: 0.2600 - val_acc: 0.8926\n",
      "Epoch 11/40\n",
      "3686/3686 [==============================] - 1s 159us/step - loss: 0.2257 - acc: 0.9132 - val_loss: 0.2558 - val_acc: 0.8883\n",
      "Epoch 12/40\n",
      "3686/3686 [==============================] - 1s 155us/step - loss: 0.2210 - acc: 0.9083 - val_loss: 0.2546 - val_acc: 0.8872\n",
      "Epoch 13/40\n",
      "3686/3686 [==============================] - 1s 154us/step - loss: 0.1972 - acc: 0.9259 - val_loss: 0.2548 - val_acc: 0.8991\n",
      "Epoch 14/40\n",
      "3686/3686 [==============================] - 1s 152us/step - loss: 0.1819 - acc: 0.9327 - val_loss: 0.2674 - val_acc: 0.8959\n",
      "Epoch 15/40\n",
      "3686/3686 [==============================] - ETA: 0s - loss: 0.1822 - acc: 0.930 - 1s 153us/step - loss: 0.1821 - acc: 0.9308 - val_loss: 0.2799 - val_acc: 0.8807\n",
      "Epoch 16/40\n",
      "3686/3686 [==============================] - 1s 151us/step - loss: 0.1655 - acc: 0.9352 - val_loss: 0.2576 - val_acc: 0.8948\n",
      "Epoch 17/40\n",
      "3686/3686 [==============================] - 1s 163us/step - loss: 0.1555 - acc: 0.9452 - val_loss: 0.2823 - val_acc: 0.8894\n",
      "Epoch 18/40\n",
      "3686/3686 [==============================] - 1s 158us/step - loss: 0.1594 - acc: 0.9384 - val_loss: 0.2480 - val_acc: 0.8980\n",
      "Epoch 19/40\n",
      "3686/3686 [==============================] - 1s 158us/step - loss: 0.1698 - acc: 0.9362 - val_loss: 0.2818 - val_acc: 0.8937\n",
      "Epoch 20/40\n",
      "3686/3686 [==============================] - 1s 148us/step - loss: 0.1469 - acc: 0.9452 - val_loss: 0.2464 - val_acc: 0.8948\n",
      "Epoch 21/40\n",
      "3686/3686 [==============================] - 1s 151us/step - loss: 0.1373 - acc: 0.9490 - val_loss: 0.2596 - val_acc: 0.8937\n",
      "Epoch 22/40\n",
      "3686/3686 [==============================] - 1s 162us/step - loss: 0.1413 - acc: 0.9487 - val_loss: 0.2696 - val_acc: 0.8970\n",
      "Epoch 23/40\n",
      "3686/3686 [==============================] - 1s 156us/step - loss: 0.1269 - acc: 0.9517 - val_loss: 0.2616 - val_acc: 0.8861\n",
      "Epoch 24/40\n",
      "3686/3686 [==============================] - 1s 151us/step - loss: 0.1241 - acc: 0.9528 - val_loss: 0.2725 - val_acc: 0.8959\n",
      "Epoch 25/40\n",
      "3686/3686 [==============================] - 1s 157us/step - loss: 0.1305 - acc: 0.9520 - val_loss: 0.2626 - val_acc: 0.9002\n",
      "Epoch 26/40\n",
      "3686/3686 [==============================] - 1s 148us/step - loss: 0.1205 - acc: 0.9590 - val_loss: 0.2479 - val_acc: 0.9013\n",
      "Epoch 27/40\n",
      "3686/3686 [==============================] - 1s 160us/step - loss: 0.1120 - acc: 0.9585 - val_loss: 0.2738 - val_acc: 0.8926\n",
      "Epoch 28/40\n",
      "3686/3686 [==============================] - 1s 164us/step - loss: 0.0946 - acc: 0.9642 - val_loss: 0.2877 - val_acc: 0.8915\n",
      "Epoch 29/40\n",
      "3686/3686 [==============================] - 1s 176us/step - loss: 0.1112 - acc: 0.9598 - val_loss: 0.2879 - val_acc: 0.8959\n",
      "Epoch 30/40\n",
      "3686/3686 [==============================] - 1s 158us/step - loss: 0.1225 - acc: 0.9588 - val_loss: 0.2561 - val_acc: 0.9002\n",
      "Epoch 31/40\n",
      "3686/3686 [==============================] - 1s 160us/step - loss: 0.1158 - acc: 0.9566 - val_loss: 0.2646 - val_acc: 0.8980\n",
      "Epoch 32/40\n",
      "3686/3686 [==============================] - 1s 164us/step - loss: 0.1029 - acc: 0.9642 - val_loss: 0.2947 - val_acc: 0.8883\n",
      "Epoch 33/40\n",
      "3686/3686 [==============================] - 1s 166us/step - loss: 0.1036 - acc: 0.9634 - val_loss: 0.2776 - val_acc: 0.8948\n",
      "Epoch 34/40\n",
      "3686/3686 [==============================] - 1s 171us/step - loss: 0.1000 - acc: 0.9645 - val_loss: 0.2709 - val_acc: 0.9035\n",
      "Epoch 35/40\n",
      "3686/3686 [==============================] - 1s 171us/step - loss: 0.0995 - acc: 0.9645 - val_loss: 0.2742 - val_acc: 0.9002\n",
      "Epoch 36/40\n",
      "3686/3686 [==============================] - 1s 212us/step - loss: 0.1055 - acc: 0.9617 - val_loss: 0.2832 - val_acc: 0.8948\n",
      "Epoch 37/40\n",
      "3686/3686 [==============================] - 1s 170us/step - loss: 0.0990 - acc: 0.9636 - val_loss: 0.2870 - val_acc: 0.8948\n",
      "Epoch 38/40\n",
      "3686/3686 [==============================] - 1s 172us/step - loss: 0.0855 - acc: 0.9696 - val_loss: 0.3223 - val_acc: 0.8861\n",
      "Epoch 39/40\n",
      "3686/3686 [==============================] - 1s 178us/step - loss: 0.0911 - acc: 0.9653 - val_loss: 0.2803 - val_acc: 0.8937\n",
      "Epoch 40/40\n",
      "3686/3686 [==============================] - 1s 190us/step - loss: 0.0887 - acc: 0.9680 - val_loss: 0.2862 - val_acc: 0.8894\n",
      "4608/4608 [==============================] - 0s 47us/step\n",
      "Accuracy: 97.79%\n",
      "MCC: 0.96\n",
      "Confusion Matrix\n",
      "[[2274   30]\n",
      " [  72 2232]]\n"
     ]
    }
   ],
   "source": [
    "finalRun = False\n",
    "crossValidation = False\n",
    "score = []\n",
    "\n",
    "if finalRun == False:\n",
    "    eiModel, eiScore = buildCompileFitEvaluate(eiPredictorsTrain, eiTargetTrain, crossValidation)\n",
    "    ieModel, ieScore = buildCompileFitEvaluate(iePredictorsTrain, ieTargetTrain, crossValidation)\n",
    "else:\n",
    "    eiModel, eiScore = buildCompileFitEvaluate(eiPredictorsTrain, eiTargetTrain, crossValidation)\n",
    "    eiModel.save('Model-6ei-basicdeep.h5')\n",
    "    eiTestPredictions = np.round(eiModel.predict(eiPredictorsTest)).astype(int)\n",
    "    eiTestMCC = matthews_corrcoef(eiTargetTest[:,0], eiTestPredictions[:,0])\n",
    "    eiMatrix = confusion_matrix(eiTargetTest[:,0], eiTestPredictions[:,0])\n",
    "    \n",
    "    ieModel, ieScore = buildCompileFitEvaluate(iePredictorsTrain, ieTargetTrain, crossValidation)\n",
    "    ieModel.save('Model-6ie-basicdeep.h5')\n",
    "    ieTestPredictions = np.round(ieModel.predict(iePredictorsTest)).astype(int)\n",
    "    ieTestMCC = matthews_corrcoef(ieTargetTest[:,0], ieTestPredictions[:,0])\n",
    "    ieMatrix = confusion_matrix(ieTargetTest[:,0], ieTestPredictions[:,0])"
   ]
  }
 ],
 "metadata": {
  "kernelspec": {
   "display_name": "Python [conda env:tensorflow_env] *",
   "language": "python",
   "name": "conda-env-tensorflow_env-py"
  },
  "language_info": {
   "codemirror_mode": {
    "name": "ipython",
    "version": 3
   },
   "file_extension": ".py",
   "mimetype": "text/x-python",
   "name": "python",
   "nbconvert_exporter": "python",
   "pygments_lexer": "ipython3",
   "version": "3.6.8"
  },
  "varInspector": {
   "cols": {
    "lenName": 16,
    "lenType": 16,
    "lenVar": 40
   },
   "kernels_config": {
    "python": {
     "delete_cmd_postfix": "",
     "delete_cmd_prefix": "del ",
     "library": "var_list.py",
     "varRefreshCmd": "print(var_dic_list())"
    },
    "r": {
     "delete_cmd_postfix": ") ",
     "delete_cmd_prefix": "rm(",
     "library": "var_list.r",
     "varRefreshCmd": "cat(var_dic_list()) "
    }
   },
   "position": {
    "height": "371.5px",
    "left": "1227px",
    "right": "20px",
    "top": "120px",
    "width": "353px"
   },
   "types_to_exclude": [
    "module",
    "function",
    "builtin_function_or_method",
    "instance",
    "_Feature"
   ],
   "window_display": false
  }
 },
 "nbformat": 4,
 "nbformat_minor": 2
}
